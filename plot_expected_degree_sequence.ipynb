{
 "cells": [
  {
   "cell_type": "code",
   "execution_count": 1,
   "metadata": {
    "collapsed": false,
    "jupyter": {
     "outputs_hidden": false
    }
   },
   "outputs": [],
   "source": [
    "%matplotlib inline"
   ]
  },
  {
   "cell_type": "markdown",
   "metadata": {},
   "source": [
    "\n",
    "# Expected Degree Sequence\n",
    "\n",
    "Random graph from given degree sequence.\n"
   ]
  },
  {
   "cell_type": "code",
   "execution_count": 2,
   "metadata": {
    "collapsed": false,
    "jupyter": {
     "outputs_hidden": false
    }
   },
   "outputs": [
    {
     "name": "stdout",
     "output_type": "stream",
     "text": [
      "Degree histogram\n",
      "degree (#nodes) ****\n",
      " 0 ( 0) \n",
      " 1 ( 0) \n",
      " 2 ( 0) \n",
      " 3 ( 0) \n",
      " 4 ( 0) \n",
      " 5 ( 0) \n",
      " 6 ( 0) \n",
      " 7 ( 0) \n",
      " 8 ( 0) \n",
      " 9 ( 0) \n",
      "10 ( 0) \n",
      "11 ( 0) \n",
      "12 ( 0) \n",
      "13 ( 0) \n",
      "14 ( 0) \n",
      "15 ( 0) \n",
      "16 ( 0) \n",
      "17 ( 0) \n",
      "18 ( 0) \n",
      "19 ( 0) \n",
      "20 ( 0) \n",
      "21 ( 0) \n",
      "22 ( 0) \n",
      "23 ( 0) \n",
      "24 ( 0) \n",
      "25 ( 0) \n",
      "26 ( 0) \n",
      "27 ( 0) \n",
      "28 ( 0) \n",
      "29 ( 0) \n",
      "30 ( 0) \n",
      "31 ( 0) \n",
      "32 ( 0) \n",
      "33 ( 0) \n",
      "34 ( 0) \n",
      "35 ( 2) **\n",
      "36 ( 3) ***\n",
      "37 ( 5) *****\n",
      "38 ( 7) *******\n",
      "39 ( 8) ********\n",
      "40 ( 5) *****\n",
      "41 (12) ************\n",
      "42 (18) ******************\n",
      "43 (14) **************\n",
      "44 (25) *************************\n",
      "45 (20) ********************\n",
      "46 (28) ****************************\n",
      "47 (22) **********************\n",
      "48 (31) *******************************\n",
      "49 (37) *************************************\n",
      "50 (30) ******************************\n",
      "51 (31) *******************************\n",
      "52 (31) *******************************\n",
      "53 (17) *****************\n",
      "54 (21) *********************\n",
      "55 (23) ***********************\n",
      "56 (18) ******************\n",
      "57 (20) ********************\n",
      "58 (21) *********************\n",
      "59 (11) ***********\n",
      "60 ( 7) *******\n",
      "61 ( 6) ******\n",
      "62 ( 6) ******\n",
      "63 ( 5) *****\n",
      "64 ( 7) *******\n",
      "65 ( 3) ***\n",
      "66 ( 4) ****\n",
      "67 ( 1) *\n",
      "68 ( 0) \n",
      "69 ( 0) \n",
      "70 ( 0) \n",
      "71 ( 0) \n",
      "72 ( 0) \n",
      "73 ( 0) \n",
      "74 ( 0) \n",
      "75 ( 1) *\n"
     ]
    }
   ],
   "source": [
    "import networkx as nx\n",
    "\n",
    "# make a random graph of 500 nodes with expected degrees of 50\n",
    "n = 500  # n nodes\n",
    "p = 0.1\n",
    "w = [p * n for i in range(n)]  # w = p*n for all nodes\n",
    "G = nx.expected_degree_graph(w)  # configuration model\n",
    "print(\"Degree histogram\")\n",
    "print(\"degree (#nodes) ****\")\n",
    "dh = nx.degree_histogram(G)\n",
    "for i, d in enumerate(dh):\n",
    "    print(f\"{i:2} ({d:2}) {'*'*d}\")"
   ]
  },
  {
   "cell_type": "code",
   "execution_count": null,
   "metadata": {},
   "outputs": [],
   "source": []
  }
 ],
 "metadata": {
  "kernelspec": {
   "display_name": "Python 3 (ipykernel)",
   "language": "python",
   "name": "python3"
  },
  "language_info": {
   "codemirror_mode": {
    "name": "ipython",
    "version": 3
   },
   "file_extension": ".py",
   "mimetype": "text/x-python",
   "name": "python",
   "nbconvert_exporter": "python",
   "pygments_lexer": "ipython3",
   "version": "3.10.6"
  }
 },
 "nbformat": 4,
 "nbformat_minor": 4
}
