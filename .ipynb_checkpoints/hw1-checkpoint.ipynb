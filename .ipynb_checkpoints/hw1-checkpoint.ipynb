{
 "cells": [
  {
   "cell_type": "code",
   "execution_count": null,
   "id": "23464422-5a51-4839-87f0-fcbc16effa51",
   "metadata": {},
   "outputs": [],
   "source": [
    "import networkx as nx\n",
    "import numpy as np\n",
    "import matplotlib.pyplot as plt "
   ]
  },
  {
   "cell_type": "code",
   "execution_count": null,
   "id": "96de8b02",
   "metadata": {},
   "outputs": [],
   "source": [
    "nodes_counts = [100,1000,10000,100000,1000000,100000000,1000000000000,100000000000000]\n",
    "# nodes_counts = [100,1000,10000]\n",
    "k_ = 3\n",
    "final_graphs = {}\n",
    "error_range_seq = 0.2\n",
    "error_range_graph = 0.2\n",
    "seed = 145287\n",
    "graphs = {}\n",
    "def check_mean_error(mean,error):\n",
    "    return True if k_ - error < mean < k_ + error else False\n",
    "\n",
    "for nodes_count in nodes_counts:\n",
    "  is_acceptable_seq = False\n",
    "  graph_degree_seq = np.zeros(nodes_count)\n",
    "  seq = np.zeros(nodes_count)\n",
    "  while(not is_acceptable_seq):\n",
    "    seq = np.rint(np.array(nx.utils.powerlaw_sequence(nodes_count,2.45),dtype=int))\n",
    "    is_mean_k = check_mean_error(seq.mean(),error_range_seq)\n",
    "    is_graph = True if nx.is_graphical(seq) else False\n",
    "    is_acceptable_seq = True if is_graph and is_mean_k else False\n",
    "  seq = seq.astype(np.int64)\n",
    "  is_acceptable_graph = False\n",
    "  while (not is_acceptable_graph):\n",
    "    G = nx.configuration_model(seq)\n",
    "    G = nx.Graph(G)\n",
    "    G.remove_edges_from(nx.selfloop_edges(G))\n",
    "    for i in range(0,len(G.nodes)):\n",
    "      graph_degree_seq[i] = G.degree[i]\n",
    "    is_acceptable_graph = check_mean_error(graph_degree_seq.mean(),error_range_graph)\n",
    "    print(is_acceptable_graph, graph_degree_seq.mean())\n",
    "  graphs[nodes_count] = G\n",
    "  print(nodes_count, seq.mean() , graph_degree_seq.mean())\n",
    "\n",
    "print(graphs)"
   ]
  },
  {
   "cell_type": "code",
   "execution_count": null,
   "id": "86734f3e-0dbc-433c-b940-503a37fd8548",
   "metadata": {},
   "outputs": [],
   "source": []
  }
 ],
 "metadata": {
  "kernelspec": {
   "display_name": "Python 3 (ipykernel)",
   "language": "python",
   "name": "python3"
  },
  "language_info": {
   "codemirror_mode": {
    "name": "ipython",
    "version": 3
   },
   "file_extension": ".py",
   "mimetype": "text/x-python",
   "name": "python",
   "nbconvert_exporter": "python",
   "pygments_lexer": "ipython3",
   "version": "3.10.6"
  },
  "vscode": {
   "interpreter": {
    "hash": "8564545df2a4a6b0b5e7cf9aa56857d1cee76eeb6d5f1a426c5ae3f0c26bc8bd"
   }
  }
 },
 "nbformat": 4,
 "nbformat_minor": 5
}
