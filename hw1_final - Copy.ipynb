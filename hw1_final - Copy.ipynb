{
  "cells": [
    {
      "cell_type": "code",
      "execution_count": null,
      "metadata": {
        "id": "-i9sVJanwH4F"
      },
      "outputs": [],
      "source": [
        "import networkx as nx\n",
        "import numpy as np\n",
        "import random as random\n",
        "import matplotlib.pyplot as plt \n",
        "import pandas as pd"
      ]
    },
    {
      "cell_type": "markdown",
      "metadata": {
        "id": "iJHYJBT80Ir7"
      },
      "source": [
        "# Utilities"
      ]
    },
    {
      "cell_type": "code",
      "execution_count": null,
      "metadata": {
        "id": "lkMXxr8twH4T"
      },
      "outputs": [],
      "source": [
        "\n",
        "def check_mean_error(mean,error,k):\n",
        "    return True if k - error < mean < k + error else False\n",
        "\n",
        "def make_graphs(nodes_counts,k,gamma,err_seq,err_graph):\n",
        "  graphs = {}\n",
        "  for nodes_count in nodes_counts:\n",
        "    is_acceptable_seq = False\n",
        "    graph_degree_seq = np.zeros(nodes_count)\n",
        "    seq = np.zeros(nodes_count)\n",
        "    while(not is_acceptable_seq):\n",
        "      seq = np.rint((np.random.default_rng().pareto(gamma-1, nodes_count) + 1))\n",
        "      # print(seq.mean())\n",
        "      is_mean_k = check_mean_error(seq.mean(),err_seq,k)\n",
        "      is_graph = True if nx.is_graphical(seq) else Fal\n",
        "      is_acceptable_seq = True if is_graph and is_mean_k else False\n",
        "    seq = seq.astype(np.int64)\n",
        "    is_acceptable_graph = False\n",
        "    while (not is_acceptable_graph):\n",
        "      G = nx.expected_degree_graph(seq)\n",
        "      # G = nx.Graph(G)\n",
        "      # G.remove_edges_from(nx.selfloop_edges(G))\n",
        "      for i in range(0,len(G.nodes)):\n",
        "        graph_degree_seq[i] = G.degree[i]\n",
        "      is_acceptable_graph = check_mean_error(graph_degree_seq.mean(),err_graph,k)\n",
        "      # print(is_acceptable_graph, graph_degree_seq.mean())\n",
        "    graphs[nodes_count] = G\n",
        "    print(nodes_count, seq.mean() , graph_degree_seq.mean())\n",
        "  print(graphs)\n",
        "  return graphs"
      ]
    },
    {
      "cell_type": "code",
      "execution_count": null,
      "metadata": {
        "id": "ZCPjV_DBwH4a"
      },
      "outputs": [],
      "source": [
        "def make_connected(G_):\n",
        "    if nx.is_connected(G_):\n",
        "        return G_\n",
        "    else:\n",
        "        Gcc = sorted(nx.connected_components(G_), key=len, reverse=True)\n",
        "        G0 = G_.subgraph(Gcc[0])\n",
        "        return G0\n"
      ]
    },
    {
      "cell_type": "code",
      "execution_count": null,
      "metadata": {
        "id": "G2RJdIs_wH4e"
      },
      "outputs": [],
      "source": [
        "def find_avg_d(G_):\n",
        "    d = nx.average_shortest_path_length(G_)\n",
        "    print(d)\n",
        "    return d\n"
      ]
    },
    {
      "cell_type": "code",
      "execution_count": null,
      "metadata": {
        "id": "nHS8tAzlwH4h"
      },
      "outputs": [],
      "source": [
        "def find_avg_d_2(G_,samples=1000):\n",
        "    nodes = G_.nodes()\n",
        "    avg = 0\n",
        "    d = np.zeros(samples)\n",
        "    for i in range(samples):\n",
        "        n1, n2 = random.choices(list(nodes), k=2)\n",
        "        length = nx.shortest_path_length(G_, source=n1, target=n2)\n",
        "        d[i] = length\n",
        "    print(d.mean())\n",
        "    return d.mean()\n"
      ]
    },
    {
      "cell_type": "code",
      "execution_count": null,
      "metadata": {
        "id": "fDEF21FN2enz"
      },
      "outputs": [],
      "source": [
        "def get_graph_nodes(G_):\n",
        "  return  [val for (node, val) in G_.degree()]\n"
      ]
    },
    {
      "cell_type": "code",
      "execution_count": null,
      "metadata": {
        "id": "NXgtpKe80gLt"
      },
      "outputs": [],
      "source": [
        "def compare_connected(graphs):\n",
        "  for nodes,graph in graphs.items():\n",
        "\n",
        "      print(f\"{nodes}: {graph}, k = { np.array(get_graph_nodes(graph)).mean() }\")\n",
        "      graphs = { node_count: make_connected(G) for (node_count,G) in graphs.items()}\n",
        "  print(\"================\")\n",
        "  for nodes,graph in graphs.items():\n",
        "      print(f\"{nodes}: {graph}, k = { np.array(get_graph_nodes(graph)).mean() }\")\n",
        "\n",
        "# compare_connected(graphs_eq_3)"
      ]
    },
    {
      "cell_type": "code",
      "execution_count": null,
      "metadata": {
        "id": "md6PjNehwH4s"
      },
      "outputs": [],
      "source": [
        "def fix_k(G_, k_=3,gamma=1):\n",
        "  k = np.array([val for (node, val) in G_.degree()]).mean()\n",
        "  print(nx.number_of_nodes(G_))\n",
        "  step = nx.number_of_nodes(G_) // gamma if nx.number_of_nodes(G_) // gamma > 0 else 1  \n",
        "  print(\"step is : \" , step)\n",
        "  while(not 2.95 < k < 3.05):\n",
        "      if k > 3:\n",
        "        # print(\"in greater\")\n",
        "        edges = list(G_.edges)\n",
        "        chosen_edge = random.sample(edges,step)\n",
        "        for i in range(0,step):\n",
        "            G_.remove_edge(chosen_edge[i][0],chosen_edge[i][1])\n",
        "\n",
        "      else:\n",
        "        # print(\"in less\")\n",
        "        nodes = list(G_.nodes)\n",
        "        sampled_nodes = random.sample(nodes,step)\n",
        "        for _ in range(0,step):\n",
        "            chosen_nodes = random.choices(sampled_nodes,k=2)\n",
        "            if(not G_.has_edge(chosen_nodes[0],chosen_nodes[1])):\n",
        "              G_.add_edge(chosen_nodes[0],chosen_nodes[1])\n",
        "      k = np.array([val for (node, val) in G_.degree()]).mean()\n",
        "      print(k)\n",
        "  print(G_,k)\n",
        "  return G_\n"
      ]
    },
    {
      "cell_type": "markdown",
      "metadata": {
        "id": "YsP2_o8YvlFd"
      },
      "source": [
        "# Making Graphs\n"
      ]
    },
    {
      "cell_type": "markdown",
      "metadata": {
        "id": "UC1pRTbi6oPb"
      },
      "source": [
        "## Global Vars"
      ]
    },
    {
      "cell_type": "code",
      "execution_count": null,
      "metadata": {
        "id": "OBwjtnSz6q5k"
      },
      "outputs": [],
      "source": [
        "nodes_counts = [10,100,500,1000,5000,10000,50000,100000,500000,1000000]\n"
      ]
    },
    {
      "cell_type": "markdown",
      "metadata": {
        "id": "0nZ3XDZCvoUS"
      },
      "source": [
        "## Gamma = 2"
      ]
    },
    {
      "cell_type": "code",
      "execution_count": null,
      "metadata": {
        "colab": {
          "background_save": true,
          "base_uri": "https://localhost:8080/"
        },
        "id": "evypvothYROX",
        "outputId": "b8f75530-9d65-42f0-9c21-5cfa89355206"
      },
      "outputs": [
        {
          "name": "stdout",
          "output_type": "stream",
          "text": [
            "10 2.6 2.4\n",
            "100 4.18 3.92\n",
            "500 6.768 5.712\n",
            "1000 6.464 5.608\n",
            "5000 6.8212 6.4804\n",
            "10000 8.6228 7.276\n",
            "50000 9.41144 7.9474\n",
            "100000 10.92206 8.65518\n",
            "500000 12.540552 9.694896\n",
            "1000000 13.718368 9.74166\n",
            "{10: <networkx.classes.graph.Graph object at 0x7f22d43864c0>, 100: <networkx.classes.graph.Graph object at 0x7f22d4386eb0>, 500: <networkx.classes.graph.Graph object at 0x7f22d4386460>, 1000: <networkx.classes.graph.Graph object at 0x7f22d4386d30>, 5000: <networkx.classes.graph.Graph object at 0x7f22d4386190>, 10000: <networkx.classes.graph.Graph object at 0x7f22d43866d0>, 50000: <networkx.classes.graph.Graph object at 0x7f22d43868b0>, 100000: <networkx.classes.graph.Graph object at 0x7f22e921f160>, 500000: <networkx.classes.graph.Graph object at 0x7f22d43866a0>, 1000000: <networkx.classes.graph.Graph object at 0x7f22f41196d0>}\n",
            "Graph with 10 nodes and 12 edges\n",
            "Graph with 100 nodes and 196 edges\n",
            "Graph with 500 nodes and 1428 edges\n",
            "Graph with 1000 nodes and 2804 edges\n",
            "Graph with 5000 nodes and 16201 edges\n",
            "Graph with 10000 nodes and 36380 edges\n",
            "Graph with 50000 nodes and 198685 edges\n",
            "Graph with 100000 nodes and 432759 edges\n",
            "Graph with 500000 nodes and 2423724 edges\n",
            "Graph with 1000000 nodes and 4870830 edges\n"
          ]
        },
        {
          "data": {
            "text/plain": [
              "{None}"
            ]
          },
          "execution_count": 159,
          "metadata": {},
          "output_type": "execute_result"
        }
      ],
      "source": [
        "## Making Graph\n",
        "\n",
        "graphs_eq_2 = make_graphs(nodes_counts,k=3,gamma=2,err_graph=15,err_seq=15) \n",
        "{print(graph) for nodes,graph in graphs_eq_2.items()}\n"
      ]
    },
    {
      "cell_type": "code",
      "execution_count": null,
      "metadata": {
        "colab": {
          "background_save": true
        },
        "id": "J2M4-DT0Y3BG",
        "outputId": "481a9520-52cb-4fc3-fce3-7cf79173f507"
      },
      "outputs": [
        {
          "name": "stdout",
          "output_type": "stream",
          "text": [
            "10\n",
            "step is :  1\n",
            "2.4\n",
            "2.6\n",
            "2.8\n",
            "2.8\n",
            "3.0\n",
            "Graph with 10 nodes and 15 edges 3.0\n",
            "100\n",
            "step is :  3\n",
            "3.86\n",
            "3.8\n",
            "3.74\n",
            "3.68\n",
            "3.62\n",
            "3.56\n",
            "3.5\n",
            "3.44\n",
            "3.38\n",
            "3.32\n",
            "3.26\n",
            "3.2\n",
            "3.14\n",
            "3.08\n",
            "3.02\n",
            "Graph with 100 nodes and 151 edges 3.02\n",
            "500\n",
            "step is :  16\n",
            "5.648\n",
            "5.584\n",
            "5.52\n",
            "5.456\n",
            "5.392\n",
            "5.328\n",
            "5.264\n",
            "5.2\n",
            "5.136\n",
            "5.072\n",
            "5.008\n",
            "4.944\n",
            "4.88\n",
            "4.816\n",
            "4.752\n",
            "4.688\n",
            "4.624\n",
            "4.56\n",
            "4.496\n",
            "4.432\n",
            "4.368\n",
            "4.304\n",
            "4.24\n",
            "4.176\n",
            "4.112\n",
            "4.048\n",
            "3.984\n",
            "3.92\n",
            "3.856\n",
            "3.792\n",
            "3.728\n",
            "3.664\n",
            "3.6\n",
            "3.536\n",
            "3.472\n",
            "3.408\n",
            "3.344\n",
            "3.28\n",
            "3.216\n",
            "3.152\n",
            "3.088\n",
            "3.024\n",
            "Graph with 500 nodes and 756 edges 3.024\n",
            "1000\n",
            "step is :  33\n",
            "5.542\n",
            "5.476\n",
            "5.41\n",
            "5.344\n",
            "5.278\n",
            "5.212\n",
            "5.146\n",
            "5.08\n",
            "5.014\n",
            "4.948\n",
            "4.882\n",
            "4.816\n",
            "4.75\n",
            "4.684\n",
            "4.618\n",
            "4.552\n",
            "4.486\n",
            "4.42\n",
            "4.354\n",
            "4.288\n",
            "4.222\n",
            "4.156\n",
            "4.09\n",
            "4.024\n",
            "3.958\n",
            "3.892\n",
            "3.826\n",
            "3.76\n",
            "3.694\n",
            "3.628\n",
            "3.562\n",
            "3.496\n",
            "3.43\n",
            "3.364\n",
            "3.298\n",
            "3.232\n",
            "3.166\n",
            "3.1\n",
            "3.034\n",
            "Graph with 1000 nodes and 1517 edges 3.034\n",
            "5000\n",
            "step is :  166\n",
            "6.414\n",
            "6.3476\n",
            "6.2812\n",
            "6.2148\n",
            "6.1484\n",
            "6.082\n",
            "6.0156\n",
            "5.9492\n",
            "5.8828\n",
            "5.8164\n",
            "5.75\n",
            "5.6836\n",
            "5.6172\n",
            "5.5508\n",
            "5.4844\n",
            "5.418\n",
            "5.3516\n",
            "5.2852\n",
            "5.2188\n",
            "5.1524\n",
            "5.086\n",
            "5.0196\n",
            "4.9532\n",
            "4.8868\n",
            "4.8204\n",
            "4.754\n",
            "4.6876\n",
            "4.6212\n",
            "4.5548\n",
            "4.4884\n",
            "4.422\n",
            "4.3556\n",
            "4.2892\n",
            "4.2228\n",
            "4.1564\n",
            "4.09\n",
            "4.0236\n",
            "3.9572\n",
            "3.8908\n",
            "3.8244\n",
            "3.758\n",
            "3.6916\n",
            "3.6252\n",
            "3.5588\n",
            "3.4924\n",
            "3.426\n",
            "3.3596\n",
            "3.2932\n",
            "3.2268\n",
            "3.1604\n",
            "3.094\n",
            "3.0276\n",
            "Graph with 5000 nodes and 7569 edges 3.0276\n",
            "10000\n",
            "step is :  333\n",
            "7.2094\n",
            "7.1428\n",
            "7.0762\n",
            "7.0096\n",
            "6.943\n",
            "6.8764\n",
            "6.8098\n",
            "6.7432\n",
            "6.6766\n",
            "6.61\n",
            "6.5434\n",
            "6.4768\n",
            "6.4102\n",
            "6.3436\n",
            "6.277\n",
            "6.2104\n",
            "6.1438\n",
            "6.0772\n",
            "6.0106\n",
            "5.944\n",
            "5.8774\n",
            "5.8108\n",
            "5.7442\n",
            "5.6776\n",
            "5.611\n",
            "5.5444\n",
            "5.4778\n",
            "5.4112\n",
            "5.3446\n",
            "5.278\n",
            "5.2114\n",
            "5.1448\n",
            "5.0782\n",
            "5.0116\n",
            "4.945\n",
            "4.8784\n",
            "4.8118\n",
            "4.7452\n",
            "4.6786\n",
            "4.612\n",
            "4.5454\n",
            "4.4788\n",
            "4.4122\n",
            "4.3456\n",
            "4.279\n",
            "4.2124\n",
            "4.1458\n",
            "4.0792\n",
            "4.0126\n",
            "3.946\n",
            "3.8794\n",
            "3.8128\n",
            "3.7462\n",
            "3.6796\n",
            "3.613\n",
            "3.5464\n",
            "3.4798\n",
            "3.4132\n",
            "3.3466\n",
            "3.28\n",
            "3.2134\n",
            "3.1468\n",
            "3.0802\n",
            "3.0136\n",
            "Graph with 10000 nodes and 15068 edges 3.0136\n",
            "50000\n",
            "step is :  1666\n",
            "7.88076\n",
            "7.81412\n",
            "7.74748\n",
            "7.68084\n",
            "7.6142\n",
            "7.54756\n",
            "7.48092\n",
            "7.41428\n",
            "7.34764\n",
            "7.281\n",
            "7.21436\n",
            "7.14772\n",
            "7.08108\n",
            "7.01444\n",
            "6.9478\n",
            "6.88116\n",
            "6.81452\n",
            "6.74788\n",
            "6.68124\n",
            "6.6146\n",
            "6.54796\n",
            "6.48132\n",
            "6.41468\n",
            "6.34804\n",
            "6.2814\n",
            "6.21476\n",
            "6.14812\n",
            "6.08148\n",
            "6.01484\n",
            "5.9482\n",
            "5.88156\n",
            "5.81492\n",
            "5.74828\n",
            "5.68164\n",
            "5.615\n",
            "5.54836\n",
            "5.48172\n",
            "5.41508\n",
            "5.34844\n",
            "5.2818\n",
            "5.21516\n",
            "5.14852\n",
            "5.08188\n",
            "5.01524\n",
            "4.9486\n",
            "4.88196\n",
            "4.81532\n",
            "4.74868\n",
            "4.68204\n",
            "4.6154\n",
            "4.54876\n",
            "4.48212\n",
            "4.41548\n",
            "4.34884\n",
            "4.2822\n",
            "4.21556\n",
            "4.14892\n",
            "4.08228\n",
            "4.01564\n",
            "3.949\n",
            "3.88236\n",
            "3.81572\n",
            "3.74908\n",
            "3.68244\n",
            "3.6158\n",
            "3.54916\n",
            "3.48252\n",
            "3.41588\n",
            "3.34924\n",
            "3.2826\n",
            "3.21596\n",
            "3.14932\n",
            "3.08268\n",
            "3.01604\n",
            "Graph with 50000 nodes and 75401 edges 3.01604\n",
            "100000\n",
            "step is :  3333\n",
            "8.58852\n",
            "8.52186\n",
            "8.4552\n",
            "8.38854\n"
          ]
        },
        {
          "ename": "KeyboardInterrupt",
          "evalue": "ignored",
          "output_type": "error",
          "traceback": [
            "\u001b[0;31m---------------------------------------------------------------------------\u001b[0m",
            "\u001b[0;31mKeyboardInterrupt\u001b[0m                         Traceback (most recent call last)",
            "\u001b[0;32m<ipython-input-160-ac4d0e367f15>\u001b[0m in \u001b[0;36m<module>\u001b[0;34m\u001b[0m\n\u001b[1;32m      1\u001b[0m \u001b[0;31m## Fixing K\u001b[0m\u001b[0;34m\u001b[0m\u001b[0;34m\u001b[0m\u001b[0;34m\u001b[0m\u001b[0m\n\u001b[0;32m----> 2\u001b[0;31m \u001b[0mfinal_graphs_eq_2\u001b[0m \u001b[0;34m=\u001b[0m \u001b[0;34m{\u001b[0m \u001b[0mnode_count\u001b[0m\u001b[0;34m:\u001b[0m \u001b[0mfix_k\u001b[0m\u001b[0;34m(\u001b[0m\u001b[0mG_\u001b[0m\u001b[0;34m,\u001b[0m\u001b[0mgamma\u001b[0m\u001b[0;34m=\u001b[0m\u001b[0;36m30\u001b[0m\u001b[0;34m)\u001b[0m \u001b[0;32mfor\u001b[0m \u001b[0;34m(\u001b[0m\u001b[0mnode_count\u001b[0m\u001b[0;34m,\u001b[0m\u001b[0mG_\u001b[0m\u001b[0;34m)\u001b[0m \u001b[0;32min\u001b[0m \u001b[0mgraphs_eq_2\u001b[0m\u001b[0;34m.\u001b[0m\u001b[0mitems\u001b[0m\u001b[0;34m(\u001b[0m\u001b[0;34m)\u001b[0m\u001b[0;34m}\u001b[0m\u001b[0;34m\u001b[0m\u001b[0;34m\u001b[0m\u001b[0m\n\u001b[0m\u001b[1;32m      3\u001b[0m \u001b[0;34m{\u001b[0m\u001b[0mprint\u001b[0m\u001b[0;34m(\u001b[0m\u001b[0mnp\u001b[0m\u001b[0;34m.\u001b[0m\u001b[0marray\u001b[0m\u001b[0;34m(\u001b[0m\u001b[0mget_graph_nodes\u001b[0m\u001b[0;34m(\u001b[0m\u001b[0mgraph\u001b[0m\u001b[0;34m)\u001b[0m\u001b[0;34m)\u001b[0m\u001b[0;34m.\u001b[0m\u001b[0mmean\u001b[0m\u001b[0;34m(\u001b[0m\u001b[0;34m)\u001b[0m\u001b[0;34m)\u001b[0m \u001b[0;32mfor\u001b[0m \u001b[0mnodes\u001b[0m\u001b[0;34m,\u001b[0m\u001b[0mgraph\u001b[0m \u001b[0;32min\u001b[0m \u001b[0mfinal_graphs_eq_2\u001b[0m\u001b[0;34m.\u001b[0m\u001b[0mitems\u001b[0m\u001b[0;34m(\u001b[0m\u001b[0;34m)\u001b[0m\u001b[0;34m}\u001b[0m\u001b[0;34m\u001b[0m\u001b[0;34m\u001b[0m\u001b[0m\n",
            "\u001b[0;32m<ipython-input-160-ac4d0e367f15>\u001b[0m in \u001b[0;36m<dictcomp>\u001b[0;34m(.0)\u001b[0m\n\u001b[1;32m      1\u001b[0m \u001b[0;31m## Fixing K\u001b[0m\u001b[0;34m\u001b[0m\u001b[0;34m\u001b[0m\u001b[0;34m\u001b[0m\u001b[0m\n\u001b[0;32m----> 2\u001b[0;31m \u001b[0mfinal_graphs_eq_2\u001b[0m \u001b[0;34m=\u001b[0m \u001b[0;34m{\u001b[0m \u001b[0mnode_count\u001b[0m\u001b[0;34m:\u001b[0m \u001b[0mfix_k\u001b[0m\u001b[0;34m(\u001b[0m\u001b[0mG_\u001b[0m\u001b[0;34m,\u001b[0m\u001b[0mgamma\u001b[0m\u001b[0;34m=\u001b[0m\u001b[0;36m30\u001b[0m\u001b[0;34m)\u001b[0m \u001b[0;32mfor\u001b[0m \u001b[0;34m(\u001b[0m\u001b[0mnode_count\u001b[0m\u001b[0;34m,\u001b[0m\u001b[0mG_\u001b[0m\u001b[0;34m)\u001b[0m \u001b[0;32min\u001b[0m \u001b[0mgraphs_eq_2\u001b[0m\u001b[0;34m.\u001b[0m\u001b[0mitems\u001b[0m\u001b[0;34m(\u001b[0m\u001b[0;34m)\u001b[0m\u001b[0;34m}\u001b[0m\u001b[0;34m\u001b[0m\u001b[0;34m\u001b[0m\u001b[0m\n\u001b[0m\u001b[1;32m      3\u001b[0m \u001b[0;34m{\u001b[0m\u001b[0mprint\u001b[0m\u001b[0;34m(\u001b[0m\u001b[0mnp\u001b[0m\u001b[0;34m.\u001b[0m\u001b[0marray\u001b[0m\u001b[0;34m(\u001b[0m\u001b[0mget_graph_nodes\u001b[0m\u001b[0;34m(\u001b[0m\u001b[0mgraph\u001b[0m\u001b[0;34m)\u001b[0m\u001b[0;34m)\u001b[0m\u001b[0;34m.\u001b[0m\u001b[0mmean\u001b[0m\u001b[0;34m(\u001b[0m\u001b[0;34m)\u001b[0m\u001b[0;34m)\u001b[0m \u001b[0;32mfor\u001b[0m \u001b[0mnodes\u001b[0m\u001b[0;34m,\u001b[0m\u001b[0mgraph\u001b[0m \u001b[0;32min\u001b[0m \u001b[0mfinal_graphs_eq_2\u001b[0m\u001b[0;34m.\u001b[0m\u001b[0mitems\u001b[0m\u001b[0;34m(\u001b[0m\u001b[0;34m)\u001b[0m\u001b[0;34m}\u001b[0m\u001b[0;34m\u001b[0m\u001b[0;34m\u001b[0m\u001b[0m\n",
            "\u001b[0;32m<ipython-input-156-8d6129973087>\u001b[0m in \u001b[0;36mfix_k\u001b[0;34m(G_, k_, gamma)\u001b[0m\n\u001b[1;32m      8\u001b[0m       \u001b[0;32mif\u001b[0m \u001b[0mk\u001b[0m \u001b[0;34m>\u001b[0m \u001b[0;36m3\u001b[0m\u001b[0;34m:\u001b[0m\u001b[0;34m\u001b[0m\u001b[0;34m\u001b[0m\u001b[0m\n\u001b[1;32m      9\u001b[0m         \u001b[0;31m# print(\"in greater\")\u001b[0m\u001b[0;34m\u001b[0m\u001b[0;34m\u001b[0m\u001b[0;34m\u001b[0m\u001b[0m\n\u001b[0;32m---> 10\u001b[0;31m         \u001b[0medges\u001b[0m \u001b[0;34m=\u001b[0m \u001b[0mlist\u001b[0m\u001b[0;34m(\u001b[0m\u001b[0mG_\u001b[0m\u001b[0;34m.\u001b[0m\u001b[0medges\u001b[0m\u001b[0;34m)\u001b[0m\u001b[0;34m\u001b[0m\u001b[0;34m\u001b[0m\u001b[0m\n\u001b[0m\u001b[1;32m     11\u001b[0m         \u001b[0mchosen_edge\u001b[0m \u001b[0;34m=\u001b[0m \u001b[0mrandom\u001b[0m\u001b[0;34m.\u001b[0m\u001b[0msample\u001b[0m\u001b[0;34m(\u001b[0m\u001b[0medges\u001b[0m\u001b[0;34m,\u001b[0m\u001b[0mstep\u001b[0m\u001b[0;34m)\u001b[0m\u001b[0;34m\u001b[0m\u001b[0;34m\u001b[0m\u001b[0m\n\u001b[1;32m     12\u001b[0m         \u001b[0;32mfor\u001b[0m \u001b[0mi\u001b[0m \u001b[0;32min\u001b[0m \u001b[0mrange\u001b[0m\u001b[0;34m(\u001b[0m\u001b[0;36m0\u001b[0m\u001b[0;34m,\u001b[0m\u001b[0mstep\u001b[0m\u001b[0;34m)\u001b[0m\u001b[0;34m:\u001b[0m\u001b[0;34m\u001b[0m\u001b[0;34m\u001b[0m\u001b[0m\n",
            "\u001b[0;32m/usr/local/lib/python3.8/dist-packages/networkx/classes/reportviews.py\u001b[0m in \u001b[0;36m__iter__\u001b[0;34m(self)\u001b[0m\n\u001b[1;32m   1271\u001b[0m                 \u001b[0;32mif\u001b[0m \u001b[0mnbr\u001b[0m \u001b[0;32mnot\u001b[0m \u001b[0;32min\u001b[0m \u001b[0mseen\u001b[0m\u001b[0;34m:\u001b[0m\u001b[0;34m\u001b[0m\u001b[0;34m\u001b[0m\u001b[0m\n\u001b[1;32m   1272\u001b[0m                     \u001b[0;32myield\u001b[0m \u001b[0;34m(\u001b[0m\u001b[0mn\u001b[0m\u001b[0;34m,\u001b[0m \u001b[0mnbr\u001b[0m\u001b[0;34m)\u001b[0m\u001b[0;34m\u001b[0m\u001b[0;34m\u001b[0m\u001b[0m\n\u001b[0;32m-> 1273\u001b[0;31m             \u001b[0mseen\u001b[0m\u001b[0;34m[\u001b[0m\u001b[0mn\u001b[0m\u001b[0;34m]\u001b[0m \u001b[0;34m=\u001b[0m \u001b[0;36m1\u001b[0m\u001b[0;34m\u001b[0m\u001b[0;34m\u001b[0m\u001b[0m\n\u001b[0m\u001b[1;32m   1274\u001b[0m         \u001b[0;32mdel\u001b[0m \u001b[0mseen\u001b[0m\u001b[0;34m\u001b[0m\u001b[0;34m\u001b[0m\u001b[0m\n\u001b[1;32m   1275\u001b[0m \u001b[0;34m\u001b[0m\u001b[0m\n",
            "\u001b[0;31mKeyboardInterrupt\u001b[0m: "
          ]
        }
      ],
      "source": [
        "## Fixing K\n",
        "final_graphs_eq_2 = { node_count: fix_k(G_,gamma=30) for (node_count,G_) in graphs_eq_2.items()}\n",
        "{print(np.array(get_graph_nodes(graph)).mean()) for nodes,graph in final_graphs_eq_2.items()}"
      ]
    },
    {
      "cell_type": "code",
      "execution_count": null,
      "metadata": {
        "colab": {
          "background_save": true
        },
        "id": "tF2j0Od469dh"
      },
      "outputs": [],
      "source": [
        "## Making Connected"
      ]
    },
    {
      "cell_type": "markdown",
      "metadata": {
        "id": "jRGDv7Mmv4JX"
      },
      "source": [
        "## 2 < Gamma < 3\n"
      ]
    },
    {
      "cell_type": "code",
      "execution_count": null,
      "metadata": {
        "colab": {
          "background_save": true
        },
        "id": "6pNHlskzwH4W"
      },
      "outputs": [],
      "source": [
        "# Making Graph\n",
        "\n",
        "graphs_btw_2_3 = make_graphs(nodes_counts,k=3,gamma=2.45,err_graph=0.2,err_seq=0.1) \n"
      ]
    },
    {
      "cell_type": "code",
      "execution_count": null,
      "metadata": {
        "colab": {
          "background_save": true
        },
        "id": "xUlG6cTwwH4d"
      },
      "outputs": [],
      "source": [
        "# Fixing K amd make connected\n",
        "final_graphs_btw_2_3 = { node_count: make_connected(G) for (node_count,G) in graphs_btw_2_3.items()}\n",
        "for nodes,graph in graphs_btw_2_3.items():\n",
        "    print(f\"{nodes}: {graph}\")"
      ]
    },
    {
      "cell_type": "markdown",
      "metadata": {
        "id": "lsdjql3PwhPO"
      },
      "source": [
        "## Gamma = 3"
      ]
    },
    {
      "cell_type": "code",
      "execution_count": null,
      "metadata": {
        "colab": {
          "background_save": true
        },
        "id": "owUdP8sjwH4r"
      },
      "outputs": [],
      "source": [
        "# Making Graph\n",
        "\n",
        "graphs_eq_3 = {node_count: nx.barabasi_albert_graph(node_count,2) for node_count in nodes_counts }\n",
        "for count,graph in graphs_eq_3.items():\n",
        "  print(np.array(get_graph_nodes(graph)).mean())"
      ]
    },
    {
      "cell_type": "code",
      "execution_count": null,
      "metadata": {
        "colab": {
          "background_save": true
        },
        "id": "WlPgZbRi6nYy",
        "outputId": "d74e6b24-7f7e-4377-e4be-c768ba3cc321"
      },
      "outputs": [
        {
          "name": "stdout",
          "output_type": "stream",
          "text": [
            "10\n",
            "step is :  1\n",
            "3.0\n",
            "Graph with 10 nodes and 15 edges 3.0\n",
            "100\n",
            "step is :  2\n",
            "3.88\n",
            "3.84\n",
            "3.8\n",
            "3.76\n",
            "3.72\n",
            "3.68\n",
            "3.64\n",
            "3.6\n",
            "3.56\n",
            "3.52\n",
            "3.48\n",
            "3.44\n",
            "3.4\n",
            "3.36\n",
            "3.32\n",
            "3.28\n",
            "3.24\n",
            "3.2\n",
            "3.16\n",
            "3.12\n",
            "3.08\n",
            "3.04\n",
            "Graph with 100 nodes and 152 edges 3.04\n",
            "500\n",
            "step is :  10\n",
            "3.944\n",
            "3.904\n",
            "3.864\n",
            "3.824\n",
            "3.784\n",
            "3.744\n",
            "3.704\n",
            "3.664\n",
            "3.624\n",
            "3.584\n",
            "3.544\n",
            "3.504\n",
            "3.464\n",
            "3.424\n",
            "3.384\n",
            "3.344\n",
            "3.304\n",
            "3.264\n",
            "3.224\n",
            "3.184\n",
            "3.144\n",
            "3.104\n",
            "3.064\n",
            "3.024\n",
            "Graph with 500 nodes and 756 edges 3.024\n",
            "1000\n",
            "step is :  20\n",
            "3.952\n",
            "3.912\n",
            "3.872\n",
            "3.832\n",
            "3.792\n",
            "3.752\n",
            "3.712\n",
            "3.672\n",
            "3.632\n",
            "3.592\n",
            "3.552\n",
            "3.512\n",
            "3.472\n",
            "3.432\n",
            "3.392\n",
            "3.352\n",
            "3.312\n",
            "3.272\n",
            "3.232\n",
            "3.192\n",
            "3.152\n",
            "3.112\n",
            "3.072\n",
            "3.032\n",
            "Graph with 1000 nodes and 1516 edges 3.032\n",
            "5000\n",
            "step is :  100\n",
            "3.9584\n",
            "3.9184\n",
            "3.8784\n",
            "3.8384\n",
            "3.7984\n",
            "3.7584\n",
            "3.7184\n",
            "3.6784\n",
            "3.6384\n",
            "3.5984\n",
            "3.5584\n",
            "3.5184\n",
            "3.4784\n",
            "3.4384\n",
            "3.3984\n",
            "3.3584\n",
            "3.3184\n",
            "3.2784\n",
            "3.2384\n",
            "3.1984\n",
            "3.1584\n",
            "3.1184\n",
            "3.0784\n",
            "3.0384\n",
            "Graph with 5000 nodes and 7596 edges 3.0384\n",
            "10000\n",
            "step is :  200\n",
            "3.9592\n",
            "3.9192\n",
            "3.8792\n",
            "3.8392\n",
            "3.7992\n",
            "3.7592\n",
            "3.7192\n",
            "3.6792\n",
            "3.6392\n",
            "3.5992\n",
            "3.5592\n",
            "3.5192\n",
            "3.4792\n",
            "3.4392\n",
            "3.3992\n",
            "3.3592\n",
            "3.3192\n",
            "3.2792\n",
            "3.2392\n",
            "3.1992\n",
            "3.1592\n",
            "3.1192\n",
            "3.0792\n",
            "3.0392\n",
            "Graph with 10000 nodes and 15196 edges 3.0392\n",
            "50000\n",
            "step is :  1000\n",
            "3.95984\n",
            "3.91984\n",
            "3.87984\n",
            "3.83984\n",
            "3.79984\n",
            "3.75984\n",
            "3.71984\n",
            "3.67984\n",
            "3.63984\n",
            "3.59984\n",
            "3.55984\n",
            "3.51984\n",
            "3.47984\n",
            "3.43984\n",
            "3.39984\n",
            "3.35984\n",
            "3.31984\n",
            "3.27984\n",
            "3.23984\n",
            "3.19984\n",
            "3.15984\n",
            "3.11984\n",
            "3.07984\n",
            "3.03984\n",
            "Graph with 50000 nodes and 75996 edges 3.03984\n",
            "100000\n",
            "step is :  2000\n",
            "3.95992\n",
            "3.91992\n",
            "3.87992\n",
            "3.83992\n",
            "3.79992\n",
            "3.75992\n",
            "3.71992\n",
            "3.67992\n",
            "3.63992\n",
            "3.59992\n",
            "3.55992\n",
            "3.51992\n",
            "3.47992\n",
            "3.43992\n",
            "3.39992\n",
            "3.35992\n",
            "3.31992\n",
            "3.27992\n",
            "3.23992\n",
            "3.19992\n",
            "3.15992\n",
            "3.11992\n",
            "3.07992\n",
            "3.03992\n",
            "Graph with 100000 nodes and 151996 edges 3.03992\n",
            "500000\n",
            "step is :  10000\n",
            "3.959984\n",
            "3.919984\n",
            "3.879984\n",
            "3.839984\n",
            "3.799984\n",
            "3.759984\n",
            "3.719984\n",
            "3.679984\n",
            "3.639984\n",
            "3.599984\n",
            "3.559984\n",
            "3.519984\n",
            "3.479984\n",
            "3.439984\n",
            "3.399984\n",
            "3.359984\n",
            "3.319984\n",
            "3.279984\n",
            "3.239984\n",
            "3.199984\n",
            "3.159984\n",
            "3.119984\n",
            "3.079984\n",
            "3.039984\n",
            "Graph with 500000 nodes and 759996 edges 3.039984\n",
            "3.0\n",
            "3.04\n",
            "3.024\n",
            "3.032\n",
            "3.0384\n",
            "3.0392\n",
            "3.03984\n",
            "3.03992\n",
            "3.039984\n"
          ]
        },
        {
          "data": {
            "text/plain": [
              "{None}"
            ]
          },
          "execution_count": 180,
          "metadata": {},
          "output_type": "execute_result"
        }
      ],
      "source": [
        "# Fixing K\n",
        "final_graphs_eq_3 = { node_count: fix_k(G_,gamma=50) for (node_count,G_) in graphs_eq_3.items()}\n",
        "{print(np.array(get_graph_nodes(graph)).mean()) for nodes,graph in final_graphs_eq_3.items()}"
      ]
    },
    {
      "cell_type": "markdown",
      "metadata": {
        "id": "FVandXTxxAvY"
      },
      "source": [
        "## Gamma > 3"
      ]
    },
    {
      "cell_type": "code",
      "execution_count": null,
      "metadata": {
        "colab": {
          "background_save": true
        },
        "id": "KqqtEvApWNHy",
        "outputId": "67b596f6-6042-4151-9ec0-080f3d917cd9"
      },
      "outputs": [
        {
          "name": "stdout",
          "output_type": "stream",
          "text": [
            "2.8\n",
            "2.9\n",
            "3.2\n",
            "2.95\n",
            "2.9812\n",
            "3.0002\n",
            "3.00572\n",
            "3.00184\n",
            "2.997704\n"
          ]
        },
        {
          "data": {
            "text/plain": [
              "{None}"
            ]
          },
          "execution_count": 181,
          "metadata": {},
          "output_type": "execute_result"
        }
      ],
      "source": [
        "## Making Graph\n",
        "\n",
        "graphs_greater_3 = {node_count: nx.fast_gnp_random_graph(node_count,3/node_count) for node_count in nodes_counts }\n",
        "{print(np.array(get_graph_nodes(graph)).mean()) for nodes,graph in graphs_greater_3.items()}\n"
      ]
    },
    {
      "cell_type": "code",
      "execution_count": null,
      "metadata": {
        "colab": {
          "background_save": true
        },
        "id": "NJz29jluz72p",
        "outputId": "fba96edc-a037-4241-c774-18b2a973910a"
      },
      "outputs": [
        {
          "name": "stdout",
          "output_type": "stream",
          "text": [
            "10\n",
            "step is :  1\n",
            "3.0\n",
            "Graph with 10 nodes and 15 edges 3.0\n",
            "100\n",
            "step is :  1\n",
            "2.92\n",
            "2.94\n",
            "2.96\n",
            "Graph with 100 nodes and 148 edges 2.96\n",
            "500\n",
            "step is :  5\n",
            "3.18\n",
            "3.16\n",
            "3.14\n",
            "3.12\n",
            "3.1\n",
            "3.08\n",
            "3.06\n",
            "3.04\n",
            "Graph with 500 nodes and 760 edges 3.04\n",
            "1000\n",
            "step is :  11\n",
            "2.97\n",
            "Graph with 1000 nodes and 1485 edges 2.97\n",
            "5000\n",
            "step is :  55\n",
            "Graph with 5000 nodes and 7453 edges 2.9812\n",
            "10000\n",
            "step is :  111\n",
            "Graph with 10000 nodes and 15001 edges 3.0002\n",
            "50000\n",
            "step is :  555\n",
            "Graph with 50000 nodes and 75143 edges 3.00572\n",
            "100000\n",
            "step is :  1111\n",
            "Graph with 100000 nodes and 150092 edges 3.00184\n",
            "500000\n",
            "step is :  5555\n",
            "Graph with 500000 nodes and 749426 edges 2.997704\n",
            "3.0\n",
            "2.96\n",
            "3.04\n",
            "2.97\n",
            "2.9812\n",
            "3.0002\n",
            "3.00572\n",
            "3.00184\n",
            "2.997704\n"
          ]
        },
        {
          "data": {
            "text/plain": [
              "{None}"
            ]
          },
          "execution_count": 182,
          "metadata": {},
          "output_type": "execute_result"
        }
      ],
      "source": [
        "# Fixing K\n",
        "final_graphs_greater_3 = { node_count: fix_k(G_,gamma=90) for (node_count,G_) in graphs_greater_3.items()}\n",
        "{print(np.array(get_graph_nodes(graph)).mean()) for nodes,graph in final_graphs_greater_3.items()}"
      ]
    },
    {
      "cell_type": "markdown",
      "metadata": {
        "id": "N11Ok6R30Spw"
      },
      "source": [
        "# Conclusion"
      ]
    },
    {
      "cell_type": "code",
      "execution_count": 187,
      "metadata": {
        "colab": {
          "base_uri": "https://localhost:8080/"
        },
        "id": "upgAaRWIa4Wt",
        "outputId": "687ac8c8-5e13-47b8-9239-95c081dcb59b"
      },
      "outputs": [
        {
          "output_type": "stream",
          "name": "stdout",
          "text": [
            "eq_2\n",
            "10: Graph with 10 nodes and 15 edges, k = 3.0\n",
            "100: Graph with 100 nodes and 151 edges, k = 3.02\n",
            "500: Graph with 500 nodes and 750 edges, k = 3.0\n",
            "1000: Graph with 1000 nodes and 1508 edges, k = 3.016\n",
            "5000: Graph with 5000 nodes and 7548 edges, k = 3.0192\n",
            "10000: Graph with 10000 nodes and 15198 edges, k = 3.0396\n",
            "50000: Graph with 50000 nodes and 75726 edges, k = 3.02904\n",
            "100000: Graph with 100000 nodes and 150275 edges, k = 3.0055\n",
            "500000: Graph with 500000 nodes and 762497 edges, k = 3.049988\n",
            "================\n",
            "10: Graph with 9 nodes and 14 edges, k = 3.111111111111111\n",
            "100: Graph with 78 nodes and 150 edges, k = 3.8461538461538463\n",
            "500: Graph with 355 nodes and 749 edges, k = 4.219718309859155\n",
            "1000: Graph with 672 nodes and 1492 edges, k = 4.440476190476191\n",
            "5000: Graph with 3015 nodes and 7500 edges, k = 4.975124378109452\n",
            "10000: Graph with 5855 nodes and 15100 edges, k = 5.15798462852263\n",
            "50000: Graph with 27715 nodes and 75130 edges, k = 5.421612845029768\n",
            "100000: Graph with 54218 nodes and 149254 edges, k = 5.505699214283079\n",
            "500000: Graph with 260213 nodes and 757621 edges, k = 5.823083397063175\n",
            "2.025\n",
            "3.128\n",
            "3.408\n",
            "3.366\n",
            "3.427\n",
            "3.435\n",
            "3.687\n",
            "3.661\n",
            "3.717\n",
            "10 : 2.025\n",
            "100 : 3.128\n",
            "500 : 3.408\n",
            "1000 : 3.366\n",
            "5000 : 3.427\n",
            "10000 : 3.435\n",
            "50000 : 3.687\n",
            "100000 : 3.661\n",
            "500000 : 3.717\n",
            "btw_2_3\n",
            "10: Graph with 9 nodes and 15 edges, k = 3.3333333333333335\n",
            "100: Graph with 85 nodes and 151 edges, k = 3.552941176470588\n",
            "500: Graph with 385 nodes and 789 edges, k = 4.0987012987012985\n",
            "1000: Graph with 753 nodes and 1420 edges, k = 3.7715803452855248\n",
            "5000: Graph with 3834 nodes and 7448 edges, k = 3.8852373500260824\n",
            "10000: Graph with 7670 nodes and 15089 edges, k = 3.934550195567145\n",
            "50000: Graph with 38098 nodes and 75916 edges, k = 3.9853010656727386\n",
            "100000: Graph with 76119 nodes and 151066 edges, k = 3.9692061114833352\n",
            "500000: Graph with 381685 nodes and 766937 edges, k = 4.018690805245163\n",
            "================\n",
            "10: Graph with 9 nodes and 15 edges, k = 3.3333333333333335\n",
            "100: Graph with 85 nodes and 151 edges, k = 3.552941176470588\n",
            "500: Graph with 385 nodes and 789 edges, k = 4.0987012987012985\n",
            "1000: Graph with 753 nodes and 1420 edges, k = 3.7715803452855248\n",
            "5000: Graph with 3834 nodes and 7448 edges, k = 3.8852373500260824\n",
            "10000: Graph with 7670 nodes and 15089 edges, k = 3.934550195567145\n",
            "50000: Graph with 38098 nodes and 75916 edges, k = 3.9853010656727386\n",
            "100000: Graph with 76119 nodes and 151066 edges, k = 3.9692061114833352\n",
            "500000: Graph with 381685 nodes and 766937 edges, k = 4.018690805245163\n",
            "1.829\n",
            "3.355\n",
            "3.574\n",
            "3.885\n",
            "4.064\n",
            "4.425\n",
            "4.648\n",
            "4.955\n",
            "5.04\n",
            "10 : 1.829\n",
            "100 : 3.355\n",
            "500 : 3.574\n",
            "1000 : 3.885\n",
            "5000 : 4.064\n",
            "10000 : 4.425\n",
            "50000 : 4.648\n",
            "100000 : 4.955\n",
            "500000 : 5.04\n",
            "eq_3\n",
            "10: Graph with 10 nodes and 15 edges, k = 3.0\n",
            "100: Graph with 100 nodes and 152 edges, k = 3.04\n",
            "500: Graph with 500 nodes and 756 edges, k = 3.024\n",
            "1000: Graph with 1000 nodes and 1516 edges, k = 3.032\n",
            "5000: Graph with 5000 nodes and 7596 edges, k = 3.0384\n",
            "10000: Graph with 10000 nodes and 15196 edges, k = 3.0392\n",
            "50000: Graph with 50000 nodes and 75996 edges, k = 3.03984\n",
            "100000: Graph with 100000 nodes and 151996 edges, k = 3.03992\n",
            "500000: Graph with 500000 nodes and 759996 edges, k = 3.039984\n",
            "================\n",
            "10: Graph with 10 nodes and 15 edges, k = 3.0\n",
            "100: Graph with 100 nodes and 152 edges, k = 3.04\n",
            "500: Graph with 487 nodes and 755 edges, k = 3.1006160164271046\n",
            "1000: Graph with 969 nodes and 1511 edges, k = 3.1186790505675956\n",
            "5000: Graph with 4812 nodes and 7583 edges, k = 3.1517040731504573\n",
            "10000: Graph with 9608 nodes and 15176 edges, k = 3.1590341382181517\n",
            "50000: Graph with 48211 nodes and 75863 edges, k = 3.147124100309058\n",
            "100000: Graph with 96284 nodes and 151721 edges, k = 3.1515308877902872\n",
            "500000: Graph with 481392 nodes and 758576 edges, k = 3.151593711569781\n",
            "1.673\n",
            "3.341\n",
            "4.598\n",
            "4.788\n",
            "5.566\n",
            "5.949\n",
            "6.737\n",
            "6.952\n",
            "7.475\n",
            "10 : 1.673\n",
            "100 : 3.341\n",
            "500 : 4.598\n",
            "1000 : 4.788\n",
            "5000 : 5.566\n",
            "10000 : 5.949\n",
            "50000 : 6.737\n",
            "100000 : 6.952\n",
            "500000 : 7.475\n",
            "greater_3\n",
            "10: Graph with 10 nodes and 15 edges, k = 3.0\n",
            "100: Graph with 100 nodes and 152 edges, k = 3.04\n",
            "500: Graph with 500 nodes and 743 edges, k = 2.972\n",
            "1000: Graph with 1000 nodes and 1519 edges, k = 3.038\n",
            "5000: Graph with 5000 nodes and 7544 edges, k = 3.0176\n",
            "10000: Graph with 10000 nodes and 15075 edges, k = 3.015\n",
            "50000: Graph with 50000 nodes and 75024 edges, k = 3.00096\n",
            "100000: Graph with 100000 nodes and 150227 edges, k = 3.00454\n",
            "500000: Graph with 500000 nodes and 750842 edges, k = 3.003368\n",
            "================\n",
            "10: Graph with 10 nodes and 15 edges, k = 3.0\n",
            "100: Graph with 95 nodes and 152 edges, k = 3.2\n",
            "500: Graph with 478 nodes and 742 edges, k = 3.1046025104602513\n",
            "1000: Graph with 941 nodes and 1512 edges, k = 3.213602550478215\n",
            "5000: Graph with 4692 nodes and 7510 edges, k = 3.2011935208866156\n",
            "10000: Graph with 9402 nodes and 15024 edges, k = 3.1959157626037014\n",
            "50000: Graph with 47032 nodes and 74765 edges, k = 3.1793247150876\n",
            "100000: Graph with 94118 nodes and 149715 edges, k = 3.1814318196306766\n",
            "500000: Graph with 470526 nodes and 748196 edges, k = 3.180253588537084\n",
            "1.784\n",
            "4.019\n",
            "5.757\n",
            "6.222\n",
            "7.739\n",
            "8.238\n",
            "9.748\n",
            "10.437\n",
            "11.895\n",
            "10 : 1.784\n",
            "100 : 4.019\n",
            "500 : 5.757\n",
            "1000 : 6.222\n",
            "5000 : 7.739\n",
            "10000 : 8.238\n",
            "50000 : 9.748\n",
            "100000 : 10.437\n",
            "500000 : 11.895\n"
          ]
        }
      ],
      "source": [
        "final_graphs = {\n",
        "      \"eq_2\": final_graphs_eq_2,\n",
        "      \"btw_2_3\": final_graphs_btw_2_3,\n",
        "      \"eq_3\": final_graphs_eq_3, \n",
        "      \"greater_3\": final_graphs_greater_3\n",
        "      }\n",
        "final_avg_d = {\n",
        "      \"eq_2\": {\n",
        "          \"10\":0,\n",
        "          \"100\":0,\n",
        "          \"500\":0,\n",
        "          \"1000\":0,\n",
        "          \"5000\":0,\n",
        "          \"10000\":0,\n",
        "          \"50000\":0,\n",
        "          \"100000\":0,\n",
        "          \"500000\":0,\n",
        "      },\n",
        "      \"btw_2_3\": {\n",
        "          \"10\":0,\n",
        "          \"100\":0,\n",
        "          \"500\":0,\n",
        "          \"1000\":0,\n",
        "          \"5000\":0,\n",
        "          \"10000\":0,\n",
        "          \"50000\":0,\n",
        "          \"100000\":0,\n",
        "          \"500000\":0,\n",
        "\n",
        "      },\n",
        "      \"eq_3\": {\n",
        "          \"10\":0,\n",
        "          \"100\":0,\n",
        "          \"500\":0,\n",
        "          \"1000\":0,\n",
        "          \"5000\":0,\n",
        "          \"10000\":0,\n",
        "          \"50000\":0,\n",
        "          \"100000\":0,\n",
        "          \"500000\":0,\n",
        "\n",
        "      },\n",
        "      \"greater_3\": {\n",
        "          \"10\":0,\n",
        "          \"100\":0,\n",
        "          \"500\":0,\n",
        "          \"1000\":0,\n",
        "          \"5000\":0,\n",
        "          \"10000\":0,\n",
        "          \"50000\":0,\n",
        "          \"100000\":0,\n",
        "          \"500000\":0,\n",
        "\n",
        "      },\n",
        "}\n",
        "\n",
        "for title, graphs in final_graphs.items():\n",
        "  print(title)\n",
        "  compare_connected(graphs)\n",
        "  graphs = { node_count: make_connected(G) for (node_count,G) in graphs.items()}\n",
        "  final_avg_d[title] = { node_count:find_avg_d_2(graph,1000) for (node_count,graph) in graphs.items()}\n",
        "  {print(f\"{node_count} : {final_avg_d}\") for node_count,final_avg_d in final_avg_d[title].items() }\n",
        "  # for nodes,graph in graphs.items():\n"
      ]
    },
    {
      "cell_type": "code",
      "execution_count": 195,
      "metadata": {
        "colab": {
          "base_uri": "https://localhost:8080/",
          "height": 302
        },
        "id": "r7ZoWpC0hKqI",
        "outputId": "cce3914c-6a2a-490f-9e2f-a342f6ff6b42"
      },
      "outputs": [
        {
          "output_type": "display_data",
          "data": {
            "text/plain": [
              "<Figure size 432x288 with 8 Axes>"
            ],
            "image/png": "[encoded data removed]"
          },
          "metadata": {
            "needs_background": "light"
          }
        }
      ],
      "source": [
        "fig , axs = plt.subplots(4,2)\n",
        "k_list = [10,100,500,1000,5000,10000,50000,100000,500000,10000000]\n",
        "x_lims = [20,20,30,50,100,200,300,400]\n",
        "k = 0\n",
        "for i in range(0,4):\n",
        "    for j in range(0,2):  \n",
        "        G_ = final_graphs[\"greater_3\"][k_list[k]]\n",
        "        degrees = [val for (node, val) in G_.degree()]\n",
        "        axs[i,j].set_title(f\"Nodes: {nx.number_of_nodes(G_)}, Edges: {nx.number_of_edges(G_)}\",fontsize=8)\n",
        "        # axs[i,j].set_xlim([0,x_lims[k]])\n",
        "        axs[i,j].hist(degrees,rwidth=10)\n",
        "        k+=1    \n",
        "fig.suptitle('Degree Distribution of different Graphs', fontsize=8)\n",
        "fig.tight_layout()\n",
        "fig.show()"
      ]
    },
    {
      "cell_type": "code",
      "execution_count": 197,
      "metadata": {
        "colab": {
          "base_uri": "https://localhost:8080/",
          "height": 265
        },
        "id": "uvDZqhek1-C9",
        "outputId": "b8865850-2bf4-42a9-828b-ecd4902f681f"
      },
      "outputs": [
        {
          "output_type": "display_data",
          "data": {
            "text/plain": [
              "<Figure size 432x288 with 1 Axes>"
            ],
            "image/png": "[encoded data removed]"
          },
          "metadata": {
            "needs_background": "light"
          }
        }
      ],
      "source": [
        "nodes_count = [10,100,500,1000,5000,10000,50000,100000,500000]\n",
        "gammas = {\n",
        "    \"eq_2\": \"Gamma = 2\",\n",
        "    \"btw_2_3\": \"2 < Gamma < 3\",\n",
        "    \"eq_3\": \"Gamma = 3\",\n",
        "    \"greater_3\": \"Gamma > 3\"\n",
        "}\n",
        "axs = plt.axes()\n",
        "for gamma,graphs in final_avg_d.items():\n",
        "  avg_d = [avg_d for count,avg_d in graphs.items()]\n",
        "  axs.plot(nodes_count,avg_d, label=str(gammas[gamma]))\n",
        "  axs.legend()\n",
        "  axs.set_xlim([0,500000])\n",
        "  # for node_count,avg_d in graphs.items():\n",
        "  \n",
        "\n",
        "\n"
      ]
    },
    {
      "cell_type": "code",
      "source": [
        "## Calculate Error\n",
        "nodes_count = [10,100,500,1000,5000,10000,50000,100000,500000]\n",
        "\n",
        "gamma_2_y = [ avg_d for nodes_count,avg_d in final_avg_d[\"eq_2\"].items()] \n",
        "plt.plot(nodes_count,gamma_2_y, label=\"Gamma = 2\")\n",
        "gamma_23_y = [ avg_d for nodes_count,avg_d in final_avg_d[\"btw_2_3\"].items()] \n",
        "gamma_23_y_error = np.absolute([gamma_23_y[i] - np.log(np.log(nodes))/np.log(1.45) for i,nodes in enumerate(nodes_count) ])\n",
        "plt.plot(nodes_count,gamma_23_y_error, label=\"2 < Gamma < 3\")\n",
        "gamma_3_y = [ avg_d for nodes_count,avg_d in final_avg_d[\"eq_3\"].items()] \n",
        "gamma_3_y_error = np.absolute([gamma_3_y[i] - np.log(nodes)/np.log(np.log(nodes)) for i,nodes in enumerate(nodes_count) ])\n",
        "plt.plot(nodes_count,gamma_3_y_error, label=\"Gamma = 3\")\n",
        "gamma_g3_y = [ avg_d for nodes_count,avg_d in final_avg_d[\"greater_3\"].items()] \n",
        "gamma_g3_y_error = np.absolute([gamma_g3_y[i] - np.log(nodes) for i,nodes in enumerate(nodes_count) ])\n",
        "plt.plot(nodes_count,gamma_g3_y_error, label=\"Gamma > 3\")\n",
        "plt.legend()\n",
        "plt.xlim([0,500000])\n",
        "plt.show()\n"
      ],
      "metadata": {
        "colab": {
          "base_uri": "https://localhost:8080/",
          "height": 265
        },
        "id": "14w7wGKng_te",
        "outputId": "c1985400-4b0e-4172-ee1f-b81943c54177"
      },
      "execution_count": 219,
      "outputs": [
        {
          "output_type": "display_data",
          "data": {
            "text/plain": [
              "<Figure size 432x288 with 1 Axes>"
            ],
            "image/png": "[encoded data removed]"
          },
          "metadata": {
            "needs_background": "light"
          }
        }
      ]
    },
    {
      "cell_type": "code",
      "source": [
        "wanted = [np.log(np.log(nodes))/np.log(1.45) for nodes in nodes_count]\n",
        "ff = np.absolute(np.array(wanted)-np.array(gamma_23_y))\n",
        "print(wanted,\"\\n\",gamma_23_y,\"\\n\",gamma_23_y_error,\"\\n\",ff)"
      ],
      "metadata": {
        "colab": {
          "base_uri": "https://localhost:8080/"
        },
        "id": "aE99nCe_j-2S",
        "outputId": "208108be-096a-44d9-de76-0bf2c64d5c57"
      },
      "execution_count": 217,
      "outputs": [
        {
          "output_type": "stream",
          "name": "stdout",
          "text": [
            "[2.2446562124009284, 4.110143740874129, 4.916797231519394, 5.201383990593941, 5.7650617555297465, 5.975631269347329, 6.409067145331412, 6.57618411542484, 6.928337987404769] \n",
            " [1.829, 3.355, 3.574, 3.885, 4.064, 4.425, 4.648, 4.955, 5.04] \n",
            " [0.41565621 0.75514374 1.34279723 1.31638399 1.70106176 1.55063127\n",
            " 1.76106715 1.62118412 1.88833799] \n",
            " [0.41565621 0.75514374 1.34279723 1.31638399 1.70106176 1.55063127\n",
            " 1.76106715 1.62118412 1.88833799]\n"
          ]
        }
      ]
    }
  ],
  "metadata": {
    "colab": {
      "collapsed_sections": [
        "iJHYJBT80Ir7",
        "0nZ3XDZCvoUS",
        "jRGDv7Mmv4JX",
        "lsdjql3PwhPO",
        "FVandXTxxAvY"
      ],
      "provenance": []
    },
    "gpuClass": "standard",
    "kernelspec": {
      "display_name": "Python 3.10.6 ('venv': venv)",
      "language": "python",
      "name": "python3"
    },
    "language_info": {
      "codemirror_mode": {
        "name": "ipython",
        "version": 3
      },
      "file_extension": ".py",
      "mimetype": "text/x-python",
      "name": "python",
      "nbconvert_exporter": "python",
      "pygments_lexer": "ipython3",
      "version": "3.10.6"
    },
    "vscode": {
      "interpreter": {
        "hash": "8564545df2a4a6b0b5e7cf9aa56857d1cee76eeb6d5f1a426c5ae3f0c26bc8bd"
      }
    }
  },
  "nbformat": 4,
  "nbformat_minor": 0
}